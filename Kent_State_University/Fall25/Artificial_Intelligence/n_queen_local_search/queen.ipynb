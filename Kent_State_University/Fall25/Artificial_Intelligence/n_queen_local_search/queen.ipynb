{
 "cells": [
  {
   "cell_type": "code",
   "execution_count": 1,
   "id": "e1096239",
   "metadata": {},
   "outputs": [],
   "source": [
    "import random\n",
    "\n",
    "def calculate_conflicts(board):\n",
    "    conflicts = 0\n",
    "    n = len(board)\n",
    "    for i in range(n):\n",
    "        for j in range(i + 1, n):\n",
    "            # Same column\n",
    "            if board[i] == board[j]:\n",
    "                conflicts += 1\n",
    "            # Same diagonal\n",
    "            if abs(board[i] - board[j]) == abs(i - j):\n",
    "                conflicts += 1\n",
    "    return conflicts"
   ]
  },
  {
   "cell_type": "code",
   "execution_count": 2,
   "id": "698ac5ff",
   "metadata": {},
   "outputs": [],
   "source": [
    "def get_best_move(board, row):\n",
    "    \"\"\"Find the best column for the queen in the given row to minimize conflicts.\"\"\"\n",
    "    current_col = board[row]\n",
    "    min_conflicts = calculate_conflicts(board)\n",
    "    best_cols = [current_col]  # Keep current if no better move\n",
    "    n = len(board)\n",
    "    \n",
    "    for col in range(1, n + 1):\n",
    "        if col != current_col:\n",
    "            temp_board = board.copy()\n",
    "            temp_board[row] = col\n",
    "            conflicts = calculate_conflicts(temp_board)\n",
    "            if conflicts < min_conflicts:\n",
    "                min_conflicts = conflicts\n",
    "                best_cols = [col]\n",
    "            elif conflicts == min_conflicts:\n",
    "                best_cols.append(col)\n",
    "    return random.choice(best_cols) if best_cols else current_col"
   ]
  },
  {
   "cell_type": "code",
   "execution_count": 3,
   "id": "2d7d366e",
   "metadata": {},
   "outputs": [],
   "source": [
    "def local_search(board, moves=4):\n",
    "    \"\"\"Perform local search with random queen selection for given moves.\"\"\"\n",
    "    n = len(board)\n",
    "    current_board = board.copy();\n",
    "    current_conflicts = calculate_conflicts(current_board)\n",
    "    random_nums = []\n",
    "    steps = []\n",
    "    \n",
    "    for move in range(moves):\n",
    "        row = random.randint(1, n)\n",
    "        random_nums.append(row)\n",
    "        \n",
    "        row_idx = row - 1\n",
    "        old_col = current_board[row_idx]\n",
    "        new_col = get_best_move(current_board, row_idx)\n",
    "        \n",
    "        # Update board if a move is made\n",
    "        if new_col != old_col:\n",
    "            current_board[row_idx] = new_col\n",
    "            current_conflicts = calculate_conflicts(current_board)\n",
    "        \n",
    "        steps.append({\n",
    "            'move': move + 1,\n",
    "            'row_selected': row,\n",
    "            'old_position': f\"({row}, {old_col})\",\n",
    "            'new_position': f\"({row}, {new_col})\",\n",
    "            'board': current_board.copy(),\n",
    "            'conflicts': current_conflicts\n",
    "        })\n",
    "    \n",
    "    return random_nums, steps"
   ]
  },
  {
   "cell_type": "code",
   "execution_count": 6,
   "id": "46b94621",
   "metadata": {},
   "outputs": [
    {
     "name": "stdout",
     "output_type": "stream",
     "text": [
      "\n",
      "Initial Configuration: [1, 3, 2, 4]\n",
      "Initial Conflicts: 2\n",
      "\n",
      "Move | Row Selected | Old Position | New Position | New Board | Conflicts\n",
      "----------------------------------------------------------------------\n",
      " 1   |      1      |    (1, 1)    |    (1, 1)    | [1, 3, 2, 4] |     2    \n",
      " 2   |      3      |    (3, 2)    |    (3, 2)    | [1, 3, 2, 4] |     2    \n",
      " 3   |      2      |    (2, 3)    |    (2, 3)    | [1, 3, 2, 4] |     2    \n",
      " 4   |      1      |    (1, 1)    |    (1, 1)    | [1, 3, 2, 4] |     2    \n",
      "\n",
      "Random Numbers Generated (Row Selected): [1, 3, 2, 1]\n",
      "\n",
      "Initial Configuration: [1, 1, 1, 1]\n",
      "Initial Conflicts: 6\n",
      "\n",
      "Move | Row Selected | Old Position | New Position | New Board | Conflicts\n",
      "----------------------------------------------------------------------\n",
      " 1   |      4      |    (4, 1)    |    (4, 2)    | [1, 1, 1, 2] |     4    \n",
      " 2   |      1      |    (1, 1)    |    (1, 4)    | [4, 1, 1, 2] |     2    \n",
      " 3   |      2      |    (2, 1)    |    (2, 1)    | [4, 1, 1, 2] |     2    \n",
      " 4   |      1      |    (1, 4)    |    (1, 4)    | [4, 1, 1, 2] |     2    \n",
      "\n",
      "Random Numbers Generated (Row Selected): [4, 1, 2, 1]\n"
     ]
    }
   ],
   "source": [
    "def print_results(initial_board, random_nums, steps):\n",
    "    \"\"\"Print the process and results for a given initial board.\"\"\"\n",
    "    print(f\"\\nInitial Configuration: {initial_board}\")\n",
    "    print(f\"Initial Conflicts: {calculate_conflicts(initial_board)}\")\n",
    "    print(\"\\nMove | Row Selected | Old Position | New Position | New Board | Conflicts\")\n",
    "    print(\"-\" * 70)\n",
    "    for step in steps:\n",
    "        print(f\"{step['move']:^4} | {step['row_selected']:^11} | {step['old_position']:^12} | {step['new_position']:^12} | {step['board']} | {step['conflicts']:^9}\")\n",
    "    print(\"\\nRandom Numbers Generated (Row Selected):\", random_nums)\n",
    "\n",
    "# Set random seed for reproducibility\n",
    "random.seed(42)\n",
    "\n",
    "# Initial configurations (0-based indexing, adjusted by adding 1 for output)\n",
    "initial_boards = [\n",
    "    [1, 3, 2, 4],  # <1, 3, 2, 4>\n",
    "    [1, 1, 1, 1],  # <1, 1, 1, 1>\n",
    "    # [1, 2, 3, 4],  # <1, 2, 3, 4>\n",
    "    # [1, 1, 1, 2]   # Assuming <1, 1, 1, 2> for <1, 1, 1, 2, 4>\n",
    "]\n",
    "\n",
    "# Process each initial board\n",
    "for idx, board in enumerate(initial_boards, 1):\n",
    "    random_nums, steps = local_search(board)\n",
    "    print_results(board, random_nums, steps)"
   ]
  },
  {
   "cell_type": "code",
   "execution_count": 10,
   "id": "4767dd76",
   "metadata": {},
   "outputs": [
    {
     "name": "stdout",
     "output_type": "stream",
     "text": [
      "\n",
      "Initial Configuration: [1, 2, 3, 4]\n",
      "Initial Conflicts: 6\n",
      "\n",
      "Move | Row Selected | Old Position | New Position | New Board | Conflicts\n",
      "----------------------------------------------------------------------\n",
      " 1   |      4      |    (4, 4)    |    (4, 3)    | [1, 2, 3, 3] |     4    \n",
      " 2   |      3      |    (3, 3)    |    (3, 4)    | [1, 2, 4, 3] |     2    \n",
      " 3   |      3      |    (3, 4)    |    (3, 4)    | [1, 2, 4, 3] |     2    \n",
      " 4   |      2      |    (2, 2)    |    (2, 2)    | [1, 2, 4, 3] |     2    \n",
      "\n",
      "Random Numbers Generated (Row Selected): [4, 3, 3, 2]\n",
      "\n",
      "Initial Configuration: [1, 1, 1, 2]\n",
      "Initial Conflicts: 4\n",
      "\n",
      "Move | Row Selected | Old Position | New Position | New Board | Conflicts\n",
      "----------------------------------------------------------------------\n",
      " 1   |      3      |    (3, 1)    |    (3, 4)    | [1, 1, 4, 2] |     1    \n",
      " 2   |      3      |    (3, 4)    |    (3, 4)    | [1, 1, 4, 2] |     1    \n",
      " 3   |      2      |    (2, 1)    |    (2, 3)    | [1, 3, 4, 2] |     1    \n",
      " 4   |      2      |    (2, 3)    |    (2, 1)    | [1, 1, 4, 2] |     1    \n",
      "\n",
      "Random Numbers Generated (Row Selected): [3, 3, 2, 2]\n"
     ]
    }
   ],
   "source": [
    "initial_boards = [\n",
    "    # [1, 3, 2, 4],  # <1, 3, 2, 4>\n",
    "    # [1, 1, 1, 1],  # <1, 1, 1, 1>\n",
    "    [1, 2, 3, 4],  # <1, 2, 3, 4>\n",
    "    [1, 1, 1, 2]   # Assuming <1, 1, 1, 2> for <1, 1, 1, 2, 4>\n",
    "]\n",
    "\n",
    "# Process each initial board\n",
    "for idx, board in enumerate(initial_boards, 1):\n",
    "    random_nums, steps = local_search(board)\n",
    "    print_results(board, random_nums, steps)"
   ]
  },
  {
   "cell_type": "code",
   "execution_count": null,
   "id": "226b4fcb",
   "metadata": {},
   "outputs": [],
   "source": []
  },
  {
   "cell_type": "code",
   "execution_count": null,
   "id": "5026af22",
   "metadata": {},
   "outputs": [],
   "source": []
  }
 ],
 "metadata": {
  "kernelspec": {
   "display_name": "Python RCNN",
   "language": "python",
   "name": "your_env_name"
  },
  "language_info": {
   "codemirror_mode": {
    "name": "ipython",
    "version": 3
   },
   "file_extension": ".py",
   "mimetype": "text/x-python",
   "name": "python",
   "nbconvert_exporter": "python",
   "pygments_lexer": "ipython3",
   "version": "3.10.18"
  }
 },
 "nbformat": 4,
 "nbformat_minor": 5
}
