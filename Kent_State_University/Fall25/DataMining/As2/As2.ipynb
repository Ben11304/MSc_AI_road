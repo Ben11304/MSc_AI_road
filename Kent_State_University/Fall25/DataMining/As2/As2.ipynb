{
 "cells": [
  {
   "cell_type": "markdown",
   "id": "1204c760",
   "metadata": {},
   "source": [
    " Implementing Apriori algorithm (using C++, Java, or any programming language).\n",
    "Your program should be able to accept two parameters with input: filename and a\n",
    "minimal support level. For instance, \"myapriori filename 15\", where \"myapriori\" is\n",
    "the execution file, and 15 means a frequent itemset has frequency of 15% of the\n",
    "entire transactions in “filename”. The file format is as follows: each line corresponds\n",
    "to a transaction (no transaction id) and each item in the transaction is separated by\n",
    "a space. Your program should output all the frequent itemsets in the input file with\n",
    "the specified minimal support level."
   ]
  },
  {
   "cell_type": "code",
   "execution_count": null,
   "id": "94e3e67e",
   "metadata": {},
   "outputs": [
    {
     "name": "stdout",
     "output_type": "stream",
     "text": [
      "Usage: python myapriori.py <filename> <min_support_percentage>\n"
     ]
    },
    {
     "ename": "SystemExit",
     "evalue": "1",
     "output_type": "error",
     "traceback": [
      "An exception has occurred, use %tb to see the full traceback.\n",
      "\u001b[31mSystemExit\u001b[39m\u001b[31m:\u001b[39m 1\n"
     ]
    },
    {
     "name": "stderr",
     "output_type": "stream",
     "text": [
      "/opt/anaconda3/envs/Neurips/lib/python3.12/site-packages/IPython/core/interactiveshell.py:3707: UserWarning: To exit: use 'exit', 'quit', or Ctrl-D.\n",
      "  warn(\"To exit: use 'exit', 'quit', or Ctrl-D.\", stacklevel=1)\n"
     ]
    }
   ],
   "source": [
    "import sys\n",
    "from collections import defaultdict\n",
    "import math\n",
    "\n",
    "def find_frequent_1_itemsets(transactions, min_support_count):\n",
    "    # Count occurrences of each single item\n",
    "    item_counts = defaultdict(int)\n",
    "    for transaction in transactions:\n",
    "        for item in transaction:\n",
    "            item_counts[item] += 1\n",
    "    \n",
    "    # Keep items that meet minimum support\n",
    "    frequent_items = {frozenset([item]): count for item, count in item_counts.items() if count >= min_support_count}\n",
    "    return frequent_items\n",
    "\n",
    "def generate_candidates(prev_frequent, k):\n",
    "    # Generate k-itemset candidates from (k-1)-itemsets\n",
    "    candidates = set()\n",
    "    prev_items = list(prev_frequent.keys())\n",
    "    for i in range(len(prev_items)):\n",
    "        for j in range(i + 1, len(prev_items)):\n",
    "            set1 = prev_items[i]\n",
    "            set2 = prev_items[j]\n",
    "            union = set1 | set2\n",
    "            if len(union) == k:\n",
    "                candidates.add(union)\n",
    "    return candidates\n",
    "\n",
    "def count_supports(candidates, transactions):\n",
    "    # Count support for each candidate\n",
    "    supports = defaultdict(int)\n",
    "    for transaction in transactions:\n",
    "        for candidate in candidates:\n",
    "            if candidate.issubset(transaction):\n",
    "                supports[candidate] += 1\n",
    "    return supports\n",
    "\n",
    "def main():\n",
    "    # Check command-line arguments\n",
    "    if len(sys.argv) != 3:\n",
    "        print(\"Usage: python apriori.py <filename> <min_support_percentage>\")\n",
    "        sys.exit(1)\n",
    "\n",
    "    filename = sys.argv[1]\n",
    "    try:\n",
    "        min_support_perc = float(sys.argv[2])\n",
    "    except ValueError:\n",
    "        print(\"Minimum support must be a number (e.g., 15 for 15%)\")\n",
    "        sys.exit(1)\n",
    "\n",
    "    # Read transactions from file\n",
    "    try:\n",
    "        with open(filename, 'r') as f:\n",
    "            transactions = [set(line.strip().split()) for line in f if line.strip()]\n",
    "    except FileNotFoundError:\n",
    "        print(f\"File {filename} not found.\")\n",
    "        sys.exit(1)\n",
    "\n",
    "    if not transactions:\n",
    "        print(\"No transactions found in the file.\")\n",
    "        return\n",
    "\n",
    "    # Calculate minimum support count\n",
    "    total_transactions = len(transactions)\n",
    "    min_support_count = math.ceil((min_support_perc / 100) * total_transactions)\n",
    "\n",
    "    # Step 1: Find frequent 1-itemsets\n",
    "    frequent_itemsets = find_frequent_1_itemsets(transactions, min_support_count)\n",
    "    all_frequent = frequent_itemsets.copy()\n",
    "\n",
    "    # Step 2: Generate larger itemsets iteratively\n",
    "    k = 2\n",
    "    while frequent_itemsets:\n",
    "        # Generate candidates for k-itemsets\n",
    "        candidates = generate_candidates(frequent_itemsets, k)\n",
    "        if not candidates:\n",
    "            break\n",
    "\n",
    "        # Count supports for candidates\n",
    "        supports = count_supports(candidates, transactions)\n",
    "\n",
    "        # Keep candidates that meet minimum support\n",
    "        frequent_itemsets = {itemset: count for itemset, count in supports.items() if count >= min_support_count}\n",
    "        all_frequent.update(frequent_itemsets)\n",
    "        k += 1\n",
    "\n",
    "    # Output frequent itemsets, sorted by size and lexicographically\n",
    "    for itemset in sorted(all_frequent.keys(), key=lambda x: (len(x), sorted(x))):\n",
    "        print(' '.join(sorted(itemset)))\n",
    "\n",
    "if __name__ == \"__main__\":\n",
    "    main()"
   ]
  },
  {
   "cell_type": "code",
   "execution_count": null,
   "id": "9af5382d",
   "metadata": {},
   "outputs": [],
   "source": []
  }
 ],
 "metadata": {
  "kernelspec": {
   "display_name": "Neurips",
   "language": "python",
   "name": "python3"
  },
  "language_info": {
   "codemirror_mode": {
    "name": "ipython",
    "version": 3
   },
   "file_extension": ".py",
   "mimetype": "text/x-python",
   "name": "python",
   "nbconvert_exporter": "python",
   "pygments_lexer": "ipython3",
   "version": "3.12.11"
  }
 },
 "nbformat": 4,
 "nbformat_minor": 5
}
