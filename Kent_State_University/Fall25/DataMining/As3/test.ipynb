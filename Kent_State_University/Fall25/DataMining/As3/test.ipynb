{
 "cells": [
  {
   "cell_type": "code",
   "execution_count": 1,
   "id": "174d2051",
   "metadata": {},
   "outputs": [
    {
     "name": "stdout",
     "output_type": "stream",
     "text": [
      "Camera Model: X-T3\n",
      "Lens Model: XF16-80mmF4 R OIS WR\n",
      "Shutter Speed: 0.008\n",
      "Aperture: 8.0\n",
      "ISO: 320\n"
     ]
    }
   ],
   "source": [
    "from PIL import Image\n",
    "from PIL.ExifTags import TAGS\n",
    "\n",
    "def get_exif_data(image_path):\n",
    "    try:\n",
    "        # Open the image\n",
    "        image = Image.open(image_path)\n",
    "        \n",
    "        # Extract EXIF data\n",
    "        exif_data = image._getexif()\n",
    "        \n",
    "        if exif_data is None:\n",
    "            print(\"No EXIF data found in the image.\")\n",
    "            return\n",
    "        \n",
    "        # Dictionary to store decoded EXIF data\n",
    "        exif_info = {}\n",
    "        \n",
    "        # Iterate through EXIF data and decode tags\n",
    "        for tag_id, value in exif_data.items():\n",
    "            tag_name = TAGS.get(tag_id, tag_id)\n",
    "            exif_info[tag_name] = value\n",
    "        \n",
    "        # Extract specific metadata\n",
    "        camera_model = exif_info.get('Model', 'Unknown')\n",
    "        lens_model = exif_info.get('LensModel', 'Unknown')\n",
    "        shutter_speed = exif_info.get('ExposureTime', 'Unknown')\n",
    "        aperture = exif_info.get('FNumber', 'Unknown')\n",
    "        iso = exif_info.get('ISOSpeedRatings', 'Unknown')\n",
    "        \n",
    "        # Print the extracted metadata\n",
    "        print(f\"Camera Model: {camera_model}\")\n",
    "        print(f\"Lens Model: {lens_model}\")\n",
    "        print(f\"Shutter Speed: {shutter_speed}\")\n",
    "        print(f\"Aperture: {aperture}\")\n",
    "        print(f\"ISO: {iso}\")\n",
    "        \n",
    "        # Optionally, print all EXIF data for debugging\n",
    "        # for tag, value in exif_info.items():\n",
    "        #     print(f\"{tag}: {value}\")\n",
    "        \n",
    "    except Exception as e:\n",
    "        print(f\"Error reading EXIF data: {e}\")\n",
    "\n",
    "# Example usage\n",
    "image_path = \"/Users/viethuy/Documents/MSc_AI_road/Kent_State_University/Fall25/DataMining/As3/6C1D537E-EB9A-4B4D-856C-DDC3A1809DC0_1_102_o.jpeg\"  # Replace with your image path\n",
    "get_exif_data(image_path)"
   ]
  },
  {
   "cell_type": "code",
   "execution_count": null,
   "id": "86a8a64e",
   "metadata": {},
   "outputs": [],
   "source": []
  }
 ],
 "metadata": {
  "kernelspec": {
   "display_name": "Neurips",
   "language": "python",
   "name": "python3"
  },
  "language_info": {
   "codemirror_mode": {
    "name": "ipython",
    "version": 3
   },
   "file_extension": ".py",
   "mimetype": "text/x-python",
   "name": "python",
   "nbconvert_exporter": "python",
   "pygments_lexer": "ipython3",
   "version": "3.12.11"
  }
 },
 "nbformat": 4,
 "nbformat_minor": 5
}
